{
 "cells": [
  {
   "cell_type": "code",
   "execution_count": 1,
   "id": "0d6e5281",
   "metadata": {},
   "outputs": [
    {
     "name": "stdout",
     "output_type": "stream",
     "text": [
      "hello world\n"
     ]
    }
   ],
   "source": [
    "print(\"hello world\")"
   ]
  },
  {
   "cell_type": "markdown",
   "id": "300b9e3b",
   "metadata": {},
   "source": [
    "# Practice Markdown\n",
    "Use Jupyter Notebook to practice your repeatable technical documentation skills.  This is an important task to master because it gives you the ability to share technical documentation in a repeatable way and build a portfolio."
   ]
  },
  {
   "cell_type": "code",
   "execution_count": null,
   "id": "94f47e82",
   "metadata": {},
   "outputs": [],
   "source": []
  }
 ],
 "metadata": {
  "kernelspec": {
   "display_name": "Python 3",
   "language": "python",
   "name": "python3"
  },
  "language_info": {
   "codemirror_mode": {
    "name": "ipython",
    "version": 3
   },
   "file_extension": ".py",
   "mimetype": "text/x-python",
   "name": "python",
   "nbconvert_exporter": "python",
   "pygments_lexer": "ipython3",
   "version": "3.8.8"
  }
 },
 "nbformat": 4,
 "nbformat_minor": 5
}
