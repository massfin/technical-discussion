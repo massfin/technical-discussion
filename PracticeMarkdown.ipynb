{
  "nbformat": 4,
  "nbformat_minor": 5,
  "metadata": {
    "kernelspec": {
      "display_name": "Python 3",
      "language": "python",
      "name": "python3"
    },
    "language_info": {
      "codemirror_mode": {
        "name": "ipython",
        "version": 3
      },
      "file_extension": ".py",
      "mimetype": "text/x-python",
      "name": "python",
      "nbconvert_exporter": "python",
      "pygments_lexer": "ipython3",
      "version": "3.8.8"
    },
    "colab": {
      "name": "PracticeMarkdown.ipynb",
      "provenance": [],
      "include_colab_link": true
    }
  },
  "cells": [
    {
      "cell_type": "markdown",
      "metadata": {
        "id": "view-in-github",
        "colab_type": "text"
      },
      "source": [
        "<a href=\"https://colab.research.google.com/github/massfin/technical-discussion/blob/main/PracticeMarkdown.ipynb\" target=\"_parent\"><img src=\"https://colab.research.google.com/assets/colab-badge.svg\" alt=\"Open In Colab\"/></a>"
      ]
    },
    {
      "cell_type": "code",
      "metadata": {
        "id": "0d6e5281",
        "outputId": "2a5533e5-9745-4413-d9fb-4c907909def9"
      },
      "source": [
        "print(\"hello world\")"
      ],
      "id": "0d6e5281",
      "execution_count": null,
      "outputs": [
        {
          "name": "stdout",
          "output_type": "stream",
          "text": [
            "hello world\n"
          ]
        }
      ]
    },
    {
      "cell_type": "markdown",
      "metadata": {
        "id": "300b9e3b"
      },
      "source": [
        "# Practice Markdown\n",
        "Use Jupyter Notebook to practice your repeatable technical documentation skills.  This is an important task to master because it gives you the ability to share technical documentation in a repeatable way and build a portfolio."
      ],
      "id": "300b9e3b"
    },
    {
      "cell_type": "code",
      "metadata": {
        "id": "94f47e82"
      },
      "source": [
        ""
      ],
      "id": "94f47e82",
      "execution_count": null,
      "outputs": []
    }
  ]
}